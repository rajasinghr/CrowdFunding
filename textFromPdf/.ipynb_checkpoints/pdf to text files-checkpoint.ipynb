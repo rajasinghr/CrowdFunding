{
 "cells": [
  {
   "cell_type": "code",
   "execution_count": 33,
   "metadata": {},
   "outputs": [],
   "source": [
    "import PyPDF2\n",
    "import os \n",
    "\n",
    "pdfSourceFolder = r'../../Crowdfunding Papers-20190208T234520Z-001/Crowdfunding Papers/' \n",
    "txtDestFolder = r'../../Crowdfunding Papers-20190208T234520Z-001/Crowdfunding Papers - Text/' \n",
    "pdfFiles = []\n",
    "if not os.path.exists(txtDestFolder):\n",
    "    os.makedirs(txtDestFolder)\n",
    "for filename in os.listdir(pdfSourceFolder):\n",
    "    if filename.endswith('.pdf'):\n",
    "        pdfFiles.append(filename)\n"
   ]
  },
  {
   "cell_type": "code",
   "execution_count": null,
   "metadata": {},
   "outputs": [
    {
     "name": "stderr",
     "output_type": "stream",
     "text": [
      "PdfReadWarning: Xref table not zero-indexed. ID numbers for objects will be corrected. [pdf.py:1736]\n"
     ]
    }
   ],
   "source": [
    "for pdfFile in pdfFiles:\n",
    "    read_pdf = PyPDF2.PdfFileReader(open(pdfSourceFolder+pdfFile,'rb'))\n",
    "    number_of_pages = read_pdf.getNumPages()\n",
    "    f = open(txtDestFolder+pdfFile.replace('.pdf','.txt'),'w+')\n",
    "    for page in range(0,number_of_pages):\n",
    "        page = read_pdf.getPage(2)\n",
    "        page_content = page.extractText()\n",
    "        f.write(page_content)\n",
    "        f.write(\"\\r\\n\")\n",
    "    f.close()"
   ]
  },
  {
   "cell_type": "code",
   "execution_count": 18,
   "metadata": {},
   "outputs": [
    {
     "name": "stdout",
     "output_type": "stream",
     "text": [
      "E:\\USF\\Projects\\Crowdfunding\\code\\textFromPdf\n",
      "E:\\USF\\Projects\\Crowdfunding\n",
      "None\n"
     ]
    }
   ],
   "source": [
    "import os\n",
    "mycwd = os.getcwd()\n",
    "print(mycwd)\n",
    "os.chdir(\"../..\")\n",
    "print(os.getcwd())\n",
    "#do stuff in parent directory\n",
    "print(os.chdir(mycwd))"
   ]
  },
  {
   "cell_type": "code",
   "execution_count": null,
   "metadata": {},
   "outputs": [],
   "source": []
  }
 ],
 "metadata": {
  "kernelspec": {
   "display_name": "Python 3",
   "language": "python",
   "name": "python3"
  },
  "language_info": {
   "codemirror_mode": {
    "name": "ipython",
    "version": 3
   },
   "file_extension": ".py",
   "mimetype": "text/x-python",
   "name": "python",
   "nbconvert_exporter": "python",
   "pygments_lexer": "ipython3",
   "version": "3.7.0"
  }
 },
 "nbformat": 4,
 "nbformat_minor": 2
}
