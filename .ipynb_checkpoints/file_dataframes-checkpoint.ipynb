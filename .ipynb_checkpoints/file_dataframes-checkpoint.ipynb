{
 "cells": [
  {
   "cell_type": "code",
   "execution_count": 13,
   "metadata": {},
   "outputs": [],
   "source": [
    "import pandas as pd\n",
    "\n",
    "tableColumnNames = {}\n"
   ]
  },
  {
   "cell_type": "code",
   "execution_count": null,
   "metadata": {},
   "outputs": [],
   "source": [
    "projects = pandas.read_csv('../data/opendata_projects000.gz', escapechar='\\\\', names=['_projectid', '_teacher_acctid', '_schoolid', 'school_ncesid', 'school_latitude', 'school_longitude', 'school_city', 'school_state', 'school_zip', 'school_metro', 'school_district', 'school_county', 'school_charter', 'school_magnet', 'school_year_round', 'school_nlns', 'school_kipp', 'school_charter_ready_promise', 'teacher_prefix', 'teacher_teach_for_america', 'teacher_ny_teaching_fellow', 'primary_focus_subject', 'primary_focus_area' ,'secondary_focus_subject', 'secondary_focus_area', 'resource_type', 'poverty_level', 'grade_level', 'vendor_shipping_charges', 'sales_tax', 'payment_processing_charges', 'fulfillment_labor_materials', 'total_price_excluding_optional_support', 'total_price_including_optional_support', 'students_reached', 'total_donations', 'num_donors', 'eligible_double_your_impact_match', 'eligible_almost_home_match', 'funding_status', 'date_posted', 'date_completed', 'date_thank_you_packet_mailed', 'date_expiration'])"
   ]
  },
  {
   "cell_type": "code",
   "execution_count": 38,
   "metadata": {},
   "outputs": [],
   "source": [
    "tableColumnNames['Projects'] = list(projects.columns.values)"
   ]
  },
  {
   "cell_type": "code",
   "execution_count": 24,
   "metadata": {},
   "outputs": [
    {
     "data": {
      "text/plain": [
       "(1203287, 44)"
      ]
     },
     "execution_count": 24,
     "metadata": {},
     "output_type": "execute_result"
    }
   ],
   "source": [
    "projects.shape"
   ]
  },
  {
   "cell_type": "code",
   "execution_count": 22,
   "metadata": {},
   "outputs": [
    {
     "data": {
      "text/plain": [
       "(192372, 44)"
      ]
     },
     "execution_count": 22,
     "metadata": {},
     "output_type": "execute_result"
    }
   ],
   "source": [
    "projects[pandas.DatetimeIndex(projects['date_posted']).year == 2015].shape"
   ]
  },
  {
   "cell_type": "code",
   "execution_count": 23,
   "metadata": {},
   "outputs": [
    {
     "data": {
      "text/html": [
       "<div>\n",
       "<style scoped>\n",
       "    .dataframe tbody tr th:only-of-type {\n",
       "        vertical-align: middle;\n",
       "    }\n",
       "\n",
       "    .dataframe tbody tr th {\n",
       "        vertical-align: top;\n",
       "    }\n",
       "\n",
       "    .dataframe thead th {\n",
       "        text-align: right;\n",
       "    }\n",
       "</style>\n",
       "<table border=\"1\" class=\"dataframe\">\n",
       "  <thead>\n",
       "    <tr style=\"text-align: right;\">\n",
       "      <th></th>\n",
       "      <th>_projectid</th>\n",
       "      <th>_teacher_acctid</th>\n",
       "      <th>_schoolid</th>\n",
       "      <th>school_ncesid</th>\n",
       "      <th>school_latitude</th>\n",
       "      <th>school_longitude</th>\n",
       "      <th>school_city</th>\n",
       "      <th>school_state</th>\n",
       "      <th>school_zip</th>\n",
       "      <th>school_metro</th>\n",
       "      <th>...</th>\n",
       "      <th>students_reached</th>\n",
       "      <th>total_donations</th>\n",
       "      <th>num_donors</th>\n",
       "      <th>eligible_double_your_impact_match</th>\n",
       "      <th>eligible_almost_home_match</th>\n",
       "      <th>funding_status</th>\n",
       "      <th>date_posted</th>\n",
       "      <th>date_completed</th>\n",
       "      <th>date_thank_you_packet_mailed</th>\n",
       "      <th>date_expiration</th>\n",
       "    </tr>\n",
       "  </thead>\n",
       "  <tbody>\n",
       "    <tr>\n",
       "      <th>0</th>\n",
       "      <td>7342bd01a2a7725ce033a179d22e382d</td>\n",
       "      <td>5c43ef5eac0f5857c266baa1ccfa3d3f</td>\n",
       "      <td>9e72d6f2f1e9367b578b6479aa5852b7</td>\n",
       "      <td>3.600097e+11</td>\n",
       "      <td>40.688454</td>\n",
       "      <td>-73.910432</td>\n",
       "      <td>New York City</td>\n",
       "      <td>NY</td>\n",
       "      <td>11207.0</td>\n",
       "      <td>urban</td>\n",
       "      <td>...</td>\n",
       "      <td>0.0</td>\n",
       "      <td>251.9</td>\n",
       "      <td>1</td>\n",
       "      <td>f</td>\n",
       "      <td>f</td>\n",
       "      <td>completed</td>\n",
       "      <td>2002-09-13 00:00:00</td>\n",
       "      <td>2002-09-23 00:00:00</td>\n",
       "      <td>2003-01-27 00:00:00</td>\n",
       "      <td>2003-12-31 00:00:00</td>\n",
       "    </tr>\n",
       "  </tbody>\n",
       "</table>\n",
       "<p>1 rows × 44 columns</p>\n",
       "</div>"
      ],
      "text/plain": [
       "                         _projectid                   _teacher_acctid  \\\n",
       "0  7342bd01a2a7725ce033a179d22e382d  5c43ef5eac0f5857c266baa1ccfa3d3f   \n",
       "\n",
       "                          _schoolid  school_ncesid  school_latitude  \\\n",
       "0  9e72d6f2f1e9367b578b6479aa5852b7   3.600097e+11        40.688454   \n",
       "\n",
       "   school_longitude    school_city school_state  school_zip school_metro  \\\n",
       "0        -73.910432  New York City           NY     11207.0        urban   \n",
       "\n",
       "          ...          students_reached total_donations num_donors  \\\n",
       "0         ...                       0.0           251.9          1   \n",
       "\n",
       "  eligible_double_your_impact_match eligible_almost_home_match funding_status  \\\n",
       "0                                 f                          f      completed   \n",
       "\n",
       "           date_posted       date_completed date_thank_you_packet_mailed  \\\n",
       "0  2002-09-13 00:00:00  2002-09-23 00:00:00          2003-01-27 00:00:00   \n",
       "\n",
       "       date_expiration  \n",
       "0  2003-12-31 00:00:00  \n",
       "\n",
       "[1 rows x 44 columns]"
      ]
     },
     "execution_count": 23,
     "metadata": {},
     "output_type": "execute_result"
    }
   ],
   "source": [
    "projects.head(1)"
   ]
  },
  {
   "cell_type": "code",
   "execution_count": 4,
   "metadata": {},
   "outputs": [],
   "source": [
    "donations = pandas.read_csv('../data/opendata_donations000.gz', escapechar='\\\\', names=['_donationid', '_projectid', '_donor_acctid', '_cartid', 'donor_city', 'donor_state', 'donor_zip', 'is_teacher_acct', 'donation_timestamp', 'donation_to_project', 'donation_optional_support', 'donation_total', 'donation_included_optional_support', 'payment_method', 'payment_included_acct_credit', 'payment_included_campaign_gift_card', 'payment_included_web_purchased_gift_card', 'payment_was_promo_matched', 'is_teacher_referred', 'giving_page_id', 'giving_page_type', 'for_honoree', 'thank_you_packet_mailed'])"
   ]
  },
  {
   "cell_type": "code",
   "execution_count": 5,
   "metadata": {},
   "outputs": [
    {
     "data": {
      "text/plain": [
       "(6211956, 23)"
      ]
     },
     "execution_count": 5,
     "metadata": {},
     "output_type": "execute_result"
    }
   ],
   "source": [
    "donations.shape"
   ]
  },
  {
   "cell_type": "code",
   "execution_count": 39,
   "metadata": {},
   "outputs": [],
   "source": [
    "tableColumnNames['Donations'] = list(donations.columns.values)"
   ]
  },
  {
   "cell_type": "code",
   "execution_count": 16,
   "metadata": {},
   "outputs": [],
   "source": [
    "resources = pandas.read_csv('../data/opendata_resources000.gz', escapechar='\\\\', names=['_resourceid', '_projectid', 'vendorid', 'vendor_name', 'item_name', 'item_number', 'item_unit_price', 'item_quantity'])"
   ]
  },
  {
   "cell_type": "code",
   "execution_count": 17,
   "metadata": {},
   "outputs": [
    {
     "data": {
      "text/plain": [
       "(7274265, 8)"
      ]
     },
     "execution_count": 17,
     "metadata": {},
     "output_type": "execute_result"
    }
   ],
   "source": [
    "resources.shape"
   ]
  },
  {
   "cell_type": "code",
   "execution_count": 40,
   "metadata": {},
   "outputs": [],
   "source": [
    "tableColumnNames['Resources'] = list(resources.columns.values) "
   ]
  },
  {
   "cell_type": "code",
   "execution_count": 19,
   "metadata": {},
   "outputs": [
    {
     "data": {
      "text/html": [
       "<div>\n",
       "<style scoped>\n",
       "    .dataframe tbody tr th:only-of-type {\n",
       "        vertical-align: middle;\n",
       "    }\n",
       "\n",
       "    .dataframe tbody tr th {\n",
       "        vertical-align: top;\n",
       "    }\n",
       "\n",
       "    .dataframe thead th {\n",
       "        text-align: right;\n",
       "    }\n",
       "</style>\n",
       "<table border=\"1\" class=\"dataframe\">\n",
       "  <thead>\n",
       "    <tr style=\"text-align: right;\">\n",
       "      <th></th>\n",
       "      <th>_resourceid</th>\n",
       "      <th>_projectid</th>\n",
       "      <th>vendorid</th>\n",
       "      <th>vendor_name</th>\n",
       "      <th>item_name</th>\n",
       "      <th>item_number</th>\n",
       "      <th>item_unit_price</th>\n",
       "      <th>item_quantity</th>\n",
       "    </tr>\n",
       "  </thead>\n",
       "  <tbody>\n",
       "    <tr>\n",
       "      <th>0</th>\n",
       "      <td>64a5f95dc28adf96f9135c2d5e373ec0</td>\n",
       "      <td>e565fb42185c6e9f22806ad9d5ac8a77</td>\n",
       "      <td>NaN</td>\n",
       "      <td>NaN</td>\n",
       "      <td>NaN</td>\n",
       "      <td>NaN</td>\n",
       "      <td>NaN</td>\n",
       "      <td>NaN</td>\n",
       "    </tr>\n",
       "    <tr>\n",
       "      <th>1</th>\n",
       "      <td>f320aa880b087ab56d64d43a8b51064a</td>\n",
       "      <td>76108ed46f99f27beb4c605b69c92b07</td>\n",
       "      <td>NaN</td>\n",
       "      <td>NaN</td>\n",
       "      <td>NaN</td>\n",
       "      <td>NaN</td>\n",
       "      <td>NaN</td>\n",
       "      <td>NaN</td>\n",
       "    </tr>\n",
       "    <tr>\n",
       "      <th>2</th>\n",
       "      <td>a0b3975870878082c138e239749108ba</td>\n",
       "      <td>2568882e4906849754bbe7246d01ed5e</td>\n",
       "      <td>NaN</td>\n",
       "      <td>NaN</td>\n",
       "      <td>NaN</td>\n",
       "      <td>NaN</td>\n",
       "      <td>NaN</td>\n",
       "      <td>NaN</td>\n",
       "    </tr>\n",
       "    <tr>\n",
       "      <th>3</th>\n",
       "      <td>fa9347e81b41ca8b46fc4ff801e23451</td>\n",
       "      <td>e49f6d07f9da7086d2d823311639f479</td>\n",
       "      <td>NaN</td>\n",
       "      <td>NaN</td>\n",
       "      <td>NaN</td>\n",
       "      <td>NaN</td>\n",
       "      <td>NaN</td>\n",
       "      <td>NaN</td>\n",
       "    </tr>\n",
       "    <tr>\n",
       "      <th>4</th>\n",
       "      <td>18c5bed0e156ebdf4b5edc277a1c1e9c</td>\n",
       "      <td>548b161b4e808fb580075e03774da1b9</td>\n",
       "      <td>NaN</td>\n",
       "      <td>NaN</td>\n",
       "      <td>NaN</td>\n",
       "      <td>NaN</td>\n",
       "      <td>NaN</td>\n",
       "      <td>NaN</td>\n",
       "    </tr>\n",
       "  </tbody>\n",
       "</table>\n",
       "</div>"
      ],
      "text/plain": [
       "                        _resourceid                        _projectid  \\\n",
       "0  64a5f95dc28adf96f9135c2d5e373ec0  e565fb42185c6e9f22806ad9d5ac8a77   \n",
       "1  f320aa880b087ab56d64d43a8b51064a  76108ed46f99f27beb4c605b69c92b07   \n",
       "2  a0b3975870878082c138e239749108ba  2568882e4906849754bbe7246d01ed5e   \n",
       "3  fa9347e81b41ca8b46fc4ff801e23451  e49f6d07f9da7086d2d823311639f479   \n",
       "4  18c5bed0e156ebdf4b5edc277a1c1e9c  548b161b4e808fb580075e03774da1b9   \n",
       "\n",
       "   vendorid vendor_name item_name item_number  item_unit_price  item_quantity  \n",
       "0       NaN         NaN       NaN         NaN              NaN            NaN  \n",
       "1       NaN         NaN       NaN         NaN              NaN            NaN  \n",
       "2       NaN         NaN       NaN         NaN              NaN            NaN  \n",
       "3       NaN         NaN       NaN         NaN              NaN            NaN  \n",
       "4       NaN         NaN       NaN         NaN              NaN            NaN  "
      ]
     },
     "execution_count": 19,
     "metadata": {},
     "output_type": "execute_result"
    }
   ],
   "source": [
    "resources.head(5)"
   ]
  },
  {
   "cell_type": "code",
   "execution_count": null,
   "metadata": {},
   "outputs": [],
   "source": []
  },
  {
   "cell_type": "code",
   "execution_count": 20,
   "metadata": {},
   "outputs": [],
   "source": [
    "essays = pandas.read_csv('../data/opendata_essays000.gz', escapechar='\\\\', names=['_projectid', '_teacherid', 'title', 'short_description', 'need_statement', 'essay', 'thankyou_note', 'impact_letter'])"
   ]
  },
  {
   "cell_type": "code",
   "execution_count": 21,
   "metadata": {},
   "outputs": [
    {
     "data": {
      "text/html": [
       "<div>\n",
       "<style scoped>\n",
       "    .dataframe tbody tr th:only-of-type {\n",
       "        vertical-align: middle;\n",
       "    }\n",
       "\n",
       "    .dataframe tbody tr th {\n",
       "        vertical-align: top;\n",
       "    }\n",
       "\n",
       "    .dataframe thead th {\n",
       "        text-align: right;\n",
       "    }\n",
       "</style>\n",
       "<table border=\"1\" class=\"dataframe\">\n",
       "  <thead>\n",
       "    <tr style=\"text-align: right;\">\n",
       "      <th></th>\n",
       "      <th>_projectid</th>\n",
       "      <th>_teacherid</th>\n",
       "      <th>title</th>\n",
       "      <th>short_description</th>\n",
       "      <th>need_statement</th>\n",
       "      <th>essay</th>\n",
       "      <th>thankyou_note</th>\n",
       "      <th>impact_letter</th>\n",
       "    </tr>\n",
       "  </thead>\n",
       "  <tbody>\n",
       "    <tr>\n",
       "      <th>0</th>\n",
       "      <td>0000023f507999464aa2b78875b7e5d6</td>\n",
       "      <td>5ac258059d9c4fc4db5c1a92b7204db0</td>\n",
       "      <td>GOAL: Ordinary Students --&gt; SUCCESSFUL SCIENTISTS</td>\n",
       "      <td>The first step towards academic achievement is...</td>\n",
       "      <td>My students need Pencils, Crayons, Gluesticks,...</td>\n",
       "      <td>The first step towards academic achievement is...</td>\n",
       "      <td>&lt;br&gt;&lt;br&gt;Thank you so much for donating to this...</td>\n",
       "      <td>NaN</td>\n",
       "    </tr>\n",
       "  </tbody>\n",
       "</table>\n",
       "</div>"
      ],
      "text/plain": [
       "                         _projectid                        _teacherid  \\\n",
       "0  0000023f507999464aa2b78875b7e5d6  5ac258059d9c4fc4db5c1a92b7204db0   \n",
       "\n",
       "                                               title  \\\n",
       "0  GOAL: Ordinary Students --> SUCCESSFUL SCIENTISTS   \n",
       "\n",
       "                                   short_description  \\\n",
       "0  The first step towards academic achievement is...   \n",
       "\n",
       "                                      need_statement  \\\n",
       "0  My students need Pencils, Crayons, Gluesticks,...   \n",
       "\n",
       "                                               essay  \\\n",
       "0  The first step towards academic achievement is...   \n",
       "\n",
       "                                       thankyou_note impact_letter  \n",
       "0  <br><br>Thank you so much for donating to this...           NaN  "
      ]
     },
     "execution_count": 21,
     "metadata": {},
     "output_type": "execute_result"
    }
   ],
   "source": [
    "essays.head(1)"
   ]
  },
  {
   "cell_type": "code",
   "execution_count": 22,
   "metadata": {},
   "outputs": [
    {
     "data": {
      "text/plain": [
       "(1203100, 8)"
      ]
     },
     "execution_count": 22,
     "metadata": {},
     "output_type": "execute_result"
    }
   ],
   "source": [
    "essays.shape"
   ]
  },
  {
   "cell_type": "code",
   "execution_count": 41,
   "metadata": {},
   "outputs": [],
   "source": [
    "tableColumnNames['Essays'] = list(essays.columns.values)"
   ]
  },
  {
   "cell_type": "code",
   "execution_count": 24,
   "metadata": {},
   "outputs": [],
   "source": [
    "giving_pages = pandas.read_csv('../data/opendata_giving_pages000.gz', escapechar='\\\\', names=['giving_page_id', '_creator_acctid', 'created_date', 'is_active', 'most_recent_donation', 'amount_raised', 'number_of_donors', 'number_of_students', 'number_of_projects_supported', 'number_of_teachers', 'number_of_schools'])"
   ]
  },
  {
   "cell_type": "code",
   "execution_count": 25,
   "metadata": {},
   "outputs": [
    {
     "data": {
      "text/plain": [
       "(789501, 11)"
      ]
     },
     "execution_count": 25,
     "metadata": {},
     "output_type": "execute_result"
    }
   ],
   "source": [
    "giving_pages.shape"
   ]
  },
  {
   "cell_type": "code",
   "execution_count": 42,
   "metadata": {},
   "outputs": [],
   "source": [
    "tableColumnNames['Giving Pages'] = list(giving_pages.columns.values)"
   ]
  },
  {
   "cell_type": "code",
   "execution_count": 12,
   "metadata": {},
   "outputs": [
    {
     "data": {
      "text/html": [
       "<div>\n",
       "<style scoped>\n",
       "    .dataframe tbody tr th:only-of-type {\n",
       "        vertical-align: middle;\n",
       "    }\n",
       "\n",
       "    .dataframe tbody tr th {\n",
       "        vertical-align: top;\n",
       "    }\n",
       "\n",
       "    .dataframe thead th {\n",
       "        text-align: right;\n",
       "    }\n",
       "</style>\n",
       "<table border=\"1\" class=\"dataframe\">\n",
       "  <thead>\n",
       "    <tr style=\"text-align: right;\">\n",
       "      <th></th>\n",
       "      <th>giving_page_id</th>\n",
       "      <th>_creator_acctid</th>\n",
       "      <th>created_date</th>\n",
       "      <th>is_active</th>\n",
       "      <th>most_recent_donation</th>\n",
       "      <th>amount_raised</th>\n",
       "      <th>number_of_donors</th>\n",
       "      <th>number_of_students</th>\n",
       "      <th>number_of_projects_supported</th>\n",
       "      <th>number_of_teachers</th>\n",
       "      <th>number_of_schools</th>\n",
       "    </tr>\n",
       "  </thead>\n",
       "  <tbody>\n",
       "    <tr>\n",
       "      <th>0</th>\n",
       "      <td>0000180e94707c0d90547614c17076bf</td>\n",
       "      <td>15ba92016a083858392a0883f9fd1057</td>\n",
       "      <td>2013-09-08 19:24:08.728</td>\n",
       "      <td>t</td>\n",
       "      <td>2015-10-24 16:54:25.986</td>\n",
       "      <td>25.0</td>\n",
       "      <td>2</td>\n",
       "      <td>0</td>\n",
       "      <td>0</td>\n",
       "      <td>0</td>\n",
       "      <td>0</td>\n",
       "    </tr>\n",
       "    <tr>\n",
       "      <th>1</th>\n",
       "      <td>0000193a728fd00b6cff91b8840bbf8d</td>\n",
       "      <td>117ee77f874937a5d3156c705eb85165</td>\n",
       "      <td>2013-07-09 09:41:18.198</td>\n",
       "      <td>t</td>\n",
       "      <td>NaN</td>\n",
       "      <td>0.0</td>\n",
       "      <td>0</td>\n",
       "      <td>0</td>\n",
       "      <td>0</td>\n",
       "      <td>0</td>\n",
       "      <td>0</td>\n",
       "    </tr>\n",
       "    <tr>\n",
       "      <th>2</th>\n",
       "      <td>000061ca392edb3936f99354736e76dc</td>\n",
       "      <td>c6627bc165747943871ecc23754316d8</td>\n",
       "      <td>2014-10-20 10:49:13.774</td>\n",
       "      <td>t</td>\n",
       "      <td>NaN</td>\n",
       "      <td>0.0</td>\n",
       "      <td>0</td>\n",
       "      <td>0</td>\n",
       "      <td>0</td>\n",
       "      <td>0</td>\n",
       "      <td>0</td>\n",
       "    </tr>\n",
       "    <tr>\n",
       "      <th>3</th>\n",
       "      <td>000077ae34530a3bd7c14e700be2a9ec</td>\n",
       "      <td>bf90729de603cd9e805fbde95314127e</td>\n",
       "      <td>2016-01-12 10:33:05.443</td>\n",
       "      <td>t</td>\n",
       "      <td>NaN</td>\n",
       "      <td>0.0</td>\n",
       "      <td>0</td>\n",
       "      <td>0</td>\n",
       "      <td>0</td>\n",
       "      <td>0</td>\n",
       "      <td>0</td>\n",
       "    </tr>\n",
       "    <tr>\n",
       "      <th>4</th>\n",
       "      <td>00007c55a9a7591b98a76d79216c9112</td>\n",
       "      <td>47627720e8e31ef5a2670d2d03a40778</td>\n",
       "      <td>2010-11-24 00:00:00</td>\n",
       "      <td>t</td>\n",
       "      <td>NaN</td>\n",
       "      <td>0.0</td>\n",
       "      <td>0</td>\n",
       "      <td>0</td>\n",
       "      <td>0</td>\n",
       "      <td>0</td>\n",
       "      <td>0</td>\n",
       "    </tr>\n",
       "  </tbody>\n",
       "</table>\n",
       "</div>"
      ],
      "text/plain": [
       "                     giving_page_id                   _creator_acctid  \\\n",
       "0  0000180e94707c0d90547614c17076bf  15ba92016a083858392a0883f9fd1057   \n",
       "1  0000193a728fd00b6cff91b8840bbf8d  117ee77f874937a5d3156c705eb85165   \n",
       "2  000061ca392edb3936f99354736e76dc  c6627bc165747943871ecc23754316d8   \n",
       "3  000077ae34530a3bd7c14e700be2a9ec  bf90729de603cd9e805fbde95314127e   \n",
       "4  00007c55a9a7591b98a76d79216c9112  47627720e8e31ef5a2670d2d03a40778   \n",
       "\n",
       "              created_date is_active     most_recent_donation  amount_raised  \\\n",
       "0  2013-09-08 19:24:08.728         t  2015-10-24 16:54:25.986           25.0   \n",
       "1  2013-07-09 09:41:18.198         t                      NaN            0.0   \n",
       "2  2014-10-20 10:49:13.774         t                      NaN            0.0   \n",
       "3  2016-01-12 10:33:05.443         t                      NaN            0.0   \n",
       "4      2010-11-24 00:00:00         t                      NaN            0.0   \n",
       "\n",
       "   number_of_donors  number_of_students  number_of_projects_supported  \\\n",
       "0                 2                   0                             0   \n",
       "1                 0                   0                             0   \n",
       "2                 0                   0                             0   \n",
       "3                 0                   0                             0   \n",
       "4                 0                   0                             0   \n",
       "\n",
       "   number_of_teachers  number_of_schools  \n",
       "0                   0                  0  \n",
       "1                   0                  0  \n",
       "2                   0                  0  \n",
       "3                   0                  0  \n",
       "4                   0                  0  "
      ]
     },
     "execution_count": 12,
     "metadata": {},
     "output_type": "execute_result"
    }
   ],
   "source": [
    "giving_pages.head(5)"
   ]
  },
  {
   "cell_type": "code",
   "execution_count": 27,
   "metadata": {},
   "outputs": [],
   "source": [
    "giving_page_projects = pandas.read_csv('../data/opendata_giving_page_projects000.gz', escapechar='\\\\', names=['giving_page_id', '_projectid'])"
   ]
  },
  {
   "cell_type": "code",
   "execution_count": 15,
   "metadata": {},
   "outputs": [
    {
     "data": {
      "text/html": [
       "<div>\n",
       "<style scoped>\n",
       "    .dataframe tbody tr th:only-of-type {\n",
       "        vertical-align: middle;\n",
       "    }\n",
       "\n",
       "    .dataframe tbody tr th {\n",
       "        vertical-align: top;\n",
       "    }\n",
       "\n",
       "    .dataframe thead th {\n",
       "        text-align: right;\n",
       "    }\n",
       "</style>\n",
       "<table border=\"1\" class=\"dataframe\">\n",
       "  <thead>\n",
       "    <tr style=\"text-align: right;\">\n",
       "      <th></th>\n",
       "      <th>giving_page_id</th>\n",
       "      <th>_projectid</th>\n",
       "    </tr>\n",
       "  </thead>\n",
       "  <tbody>\n",
       "    <tr>\n",
       "      <th>0</th>\n",
       "      <td>0311b9f35f39862e7494395daff92bc1</td>\n",
       "      <td>0ec7e0fbeb565ec17c807bb3c10f9fa9</td>\n",
       "    </tr>\n",
       "    <tr>\n",
       "      <th>1</th>\n",
       "      <td>fb5684aaed6866a91b1000c4532c9cc4</td>\n",
       "      <td>7c39e29efa29387659fffba5f71aa24c</td>\n",
       "    </tr>\n",
       "    <tr>\n",
       "      <th>2</th>\n",
       "      <td>f5d5ca085fa8c4164214646bbaa81795</td>\n",
       "      <td>86d39959e17607c06aafdba68a7b2483</td>\n",
       "    </tr>\n",
       "    <tr>\n",
       "      <th>3</th>\n",
       "      <td>0170593e85f7c6832b497338bbe426fe</td>\n",
       "      <td>36b61583ffe52c36d52c21ca7772d2bd</td>\n",
       "    </tr>\n",
       "    <tr>\n",
       "      <th>4</th>\n",
       "      <td>18aeafba51c88c01ffa49ca3b47a4123</td>\n",
       "      <td>3efcba1d763ffe50444d9298c6dc55d5</td>\n",
       "    </tr>\n",
       "  </tbody>\n",
       "</table>\n",
       "</div>"
      ],
      "text/plain": [
       "                     giving_page_id                        _projectid\n",
       "0  0311b9f35f39862e7494395daff92bc1  0ec7e0fbeb565ec17c807bb3c10f9fa9\n",
       "1  fb5684aaed6866a91b1000c4532c9cc4  7c39e29efa29387659fffba5f71aa24c\n",
       "2  f5d5ca085fa8c4164214646bbaa81795  86d39959e17607c06aafdba68a7b2483\n",
       "3  0170593e85f7c6832b497338bbe426fe  36b61583ffe52c36d52c21ca7772d2bd\n",
       "4  18aeafba51c88c01ffa49ca3b47a4123  3efcba1d763ffe50444d9298c6dc55d5"
      ]
     },
     "execution_count": 15,
     "metadata": {},
     "output_type": "execute_result"
    }
   ],
   "source": [
    "giving_page_projects.head(5)"
   ]
  },
  {
   "cell_type": "code",
   "execution_count": 28,
   "metadata": {},
   "outputs": [
    {
     "data": {
      "text/plain": [
       "(1047031, 2)"
      ]
     },
     "execution_count": 28,
     "metadata": {},
     "output_type": "execute_result"
    }
   ],
   "source": [
    "giving_page_projects.shape"
   ]
  },
  {
   "cell_type": "code",
   "execution_count": 43,
   "metadata": {},
   "outputs": [],
   "source": [
    "tableColumnNames['Giving Page Projects'] = list(giving_page_projects.columns.values)"
   ]
  },
  {
   "cell_type": "code",
   "execution_count": 34,
   "metadata": {},
   "outputs": [
    {
     "name": "stderr",
     "output_type": "stream",
     "text": [
      "C:\\Python\\Python37\\lib\\site-packages\\IPython\\core\\interactiveshell.py:2785: DtypeWarning: Columns (13,14) have mixed types. Specify dtype option on import or set low_memory=False.\n",
      "  interactivity=interactivity, compiler=compiler, result=result)\n"
     ]
    }
   ],
   "source": [
    "giftcards = pandas.read_csv('../data/opendata_giftcards000.gz', escapechar='\\\\', names=['_giftcardid', 'dollar_tier', '_buyer_acctid', 'buyer_city', 'buyer_state', 'buyer_zip', 'date_purchased', '_buyer_cartid', '_recipient_acctid', 'recipient_city', 'recipient_state', 'recipient_zip', 'redeemed', 'date_redeemed', '_redeemed_cartid', 'payment_method', 'payment_included_acct_credit', 'payment_included_campaign_gift_card', 'payment_included_web_purchased_gift_card', 'payment_was_promo_matched'])"
   ]
  },
  {
   "cell_type": "code",
   "execution_count": 35,
   "metadata": {},
   "outputs": [
    {
     "data": {
      "text/html": [
       "<div>\n",
       "<style scoped>\n",
       "    .dataframe tbody tr th:only-of-type {\n",
       "        vertical-align: middle;\n",
       "    }\n",
       "\n",
       "    .dataframe tbody tr th {\n",
       "        vertical-align: top;\n",
       "    }\n",
       "\n",
       "    .dataframe thead th {\n",
       "        text-align: right;\n",
       "    }\n",
       "</style>\n",
       "<table border=\"1\" class=\"dataframe\">\n",
       "  <thead>\n",
       "    <tr style=\"text-align: right;\">\n",
       "      <th></th>\n",
       "      <th>_giftcardid</th>\n",
       "      <th>dollar_tier</th>\n",
       "      <th>_buyer_acctid</th>\n",
       "      <th>buyer_city</th>\n",
       "      <th>buyer_state</th>\n",
       "      <th>buyer_zip</th>\n",
       "      <th>date_purchased</th>\n",
       "      <th>_buyer_cartid</th>\n",
       "      <th>_recipient_acctid</th>\n",
       "      <th>recipient_city</th>\n",
       "      <th>recipient_state</th>\n",
       "      <th>recipient_zip</th>\n",
       "      <th>redeemed</th>\n",
       "      <th>date_redeemed</th>\n",
       "      <th>_redeemed_cartid</th>\n",
       "      <th>payment_method</th>\n",
       "      <th>payment_included_acct_credit</th>\n",
       "      <th>payment_included_campaign_gift_card</th>\n",
       "      <th>payment_included_web_purchased_gift_card</th>\n",
       "      <th>payment_was_promo_matched</th>\n",
       "    </tr>\n",
       "  </thead>\n",
       "  <tbody>\n",
       "    <tr>\n",
       "      <th>0</th>\n",
       "      <td>2c7eceecfe1e850f5613f8a8a6b18b49</td>\n",
       "      <td>100_and_up</td>\n",
       "      <td>38c31e2d6ac60ba4ee73c8645237b6b5</td>\n",
       "      <td>Brooklyn</td>\n",
       "      <td>NY</td>\n",
       "      <td>112.0</td>\n",
       "      <td>2003-04-01</td>\n",
       "      <td>NaN</td>\n",
       "      <td>5f164da2f910282ce24a8b8bc9ef141f</td>\n",
       "      <td>Brooklyn</td>\n",
       "      <td>NY</td>\n",
       "      <td>112.0</td>\n",
       "      <td>t</td>\n",
       "      <td>2003-04-01 00:00:00</td>\n",
       "      <td>NaN</td>\n",
       "      <td>check</td>\n",
       "      <td>f</td>\n",
       "      <td>f</td>\n",
       "      <td>f</td>\n",
       "      <td>f</td>\n",
       "    </tr>\n",
       "  </tbody>\n",
       "</table>\n",
       "</div>"
      ],
      "text/plain": [
       "                        _giftcardid dollar_tier  \\\n",
       "0  2c7eceecfe1e850f5613f8a8a6b18b49  100_and_up   \n",
       "\n",
       "                      _buyer_acctid buyer_city buyer_state  buyer_zip  \\\n",
       "0  38c31e2d6ac60ba4ee73c8645237b6b5   Brooklyn          NY      112.0   \n",
       "\n",
       "  date_purchased _buyer_cartid                 _recipient_acctid  \\\n",
       "0     2003-04-01           NaN  5f164da2f910282ce24a8b8bc9ef141f   \n",
       "\n",
       "  recipient_city recipient_state  recipient_zip redeemed        date_redeemed  \\\n",
       "0       Brooklyn              NY          112.0        t  2003-04-01 00:00:00   \n",
       "\n",
       "  _redeemed_cartid payment_method payment_included_acct_credit  \\\n",
       "0              NaN          check                            f   \n",
       "\n",
       "  payment_included_campaign_gift_card  \\\n",
       "0                                   f   \n",
       "\n",
       "  payment_included_web_purchased_gift_card payment_was_promo_matched  \n",
       "0                                        f                         f  "
      ]
     },
     "execution_count": 35,
     "metadata": {},
     "output_type": "execute_result"
    }
   ],
   "source": [
    "giftcards.head(1)"
   ]
  },
  {
   "cell_type": "code",
   "execution_count": 36,
   "metadata": {},
   "outputs": [
    {
     "data": {
      "text/plain": [
       "(1053024, 20)"
      ]
     },
     "execution_count": 36,
     "metadata": {},
     "output_type": "execute_result"
    }
   ],
   "source": [
    "giftcards.shape"
   ]
  },
  {
   "cell_type": "code",
   "execution_count": 44,
   "metadata": {},
   "outputs": [],
   "source": [
    "tableColumnNames['Giftcards'] = list(giftcards.columns.values)"
   ]
  },
  {
   "cell_type": "code",
   "execution_count": 45,
   "metadata": {},
   "outputs": [
    {
     "data": {
      "text/plain": [
       "{'Projects': ['_projectid',\n",
       "  '_teacher_acctid',\n",
       "  '_schoolid',\n",
       "  'school_ncesid',\n",
       "  'school_latitude',\n",
       "  'school_longitude',\n",
       "  'school_city',\n",
       "  'school_state',\n",
       "  'school_zip',\n",
       "  'school_metro',\n",
       "  'school_district',\n",
       "  'school_county',\n",
       "  'school_charter',\n",
       "  'school_magnet',\n",
       "  'school_year_round',\n",
       "  'school_nlns',\n",
       "  'school_kipp',\n",
       "  'school_charter_ready_promise',\n",
       "  'teacher_prefix',\n",
       "  'teacher_teach_for_america',\n",
       "  'teacher_ny_teaching_fellow',\n",
       "  'primary_focus_subject',\n",
       "  'primary_focus_area',\n",
       "  'secondary_focus_subject',\n",
       "  'secondary_focus_area',\n",
       "  'resource_type',\n",
       "  'poverty_level',\n",
       "  'grade_level',\n",
       "  'vendor_shipping_charges',\n",
       "  'sales_tax',\n",
       "  'payment_processing_charges',\n",
       "  'fulfillment_labor_materials',\n",
       "  'total_price_excluding_optional_support',\n",
       "  'total_price_including_optional_support',\n",
       "  'students_reached',\n",
       "  'total_donations',\n",
       "  'num_donors',\n",
       "  'eligible_double_your_impact_match',\n",
       "  'eligible_almost_home_match',\n",
       "  'funding_status',\n",
       "  'date_posted',\n",
       "  'date_completed',\n",
       "  'date_thank_you_packet_mailed',\n",
       "  'date_expiration'],\n",
       " 'Donations': ['_donationid',\n",
       "  '_projectid',\n",
       "  '_donor_acctid',\n",
       "  '_cartid',\n",
       "  'donor_city',\n",
       "  'donor_state',\n",
       "  'donor_zip',\n",
       "  'is_teacher_acct',\n",
       "  'donation_timestamp',\n",
       "  'donation_to_project',\n",
       "  'donation_optional_support',\n",
       "  'donation_total',\n",
       "  'donation_included_optional_support',\n",
       "  'payment_method',\n",
       "  'payment_included_acct_credit',\n",
       "  'payment_included_campaign_gift_card',\n",
       "  'payment_included_web_purchased_gift_card',\n",
       "  'payment_was_promo_matched',\n",
       "  'is_teacher_referred',\n",
       "  'giving_page_id',\n",
       "  'giving_page_type',\n",
       "  'for_honoree',\n",
       "  'thank_you_packet_mailed'],\n",
       " 'Resources': ['_resourceid',\n",
       "  '_projectid',\n",
       "  'vendorid',\n",
       "  'vendor_name',\n",
       "  'item_name',\n",
       "  'item_number',\n",
       "  'item_unit_price',\n",
       "  'item_quantity'],\n",
       " 'Essays': ['_projectid',\n",
       "  '_teacherid',\n",
       "  'title',\n",
       "  'short_description',\n",
       "  'need_statement',\n",
       "  'essay',\n",
       "  'thankyou_note',\n",
       "  'impact_letter'],\n",
       " 'Giving Pages': ['giving_page_id',\n",
       "  '_creator_acctid',\n",
       "  'created_date',\n",
       "  'is_active',\n",
       "  'most_recent_donation',\n",
       "  'amount_raised',\n",
       "  'number_of_donors',\n",
       "  'number_of_students',\n",
       "  'number_of_projects_supported',\n",
       "  'number_of_teachers',\n",
       "  'number_of_schools'],\n",
       " 'Giving Page Projects': ['giving_page_id', '_projectid'],\n",
       " 'Giftcards': ['_giftcardid',\n",
       "  'dollar_tier',\n",
       "  '_buyer_acctid',\n",
       "  'buyer_city',\n",
       "  'buyer_state',\n",
       "  'buyer_zip',\n",
       "  'date_purchased',\n",
       "  '_buyer_cartid',\n",
       "  '_recipient_acctid',\n",
       "  'recipient_city',\n",
       "  'recipient_state',\n",
       "  'recipient_zip',\n",
       "  'redeemed',\n",
       "  'date_redeemed',\n",
       "  '_redeemed_cartid',\n",
       "  'payment_method',\n",
       "  'payment_included_acct_credit',\n",
       "  'payment_included_campaign_gift_card',\n",
       "  'payment_included_web_purchased_gift_card',\n",
       "  'payment_was_promo_matched']}"
      ]
     },
     "execution_count": 45,
     "metadata": {},
     "output_type": "execute_result"
    }
   ],
   "source": [
    "tableColumnNames"
   ]
  },
  {
   "cell_type": "code",
   "execution_count": 58,
   "metadata": {},
   "outputs": [],
   "source": [
    "import xlsxwriter"
   ]
  },
  {
   "cell_type": "code",
   "execution_count": 59,
   "metadata": {},
   "outputs": [],
   "source": [
    "workbook = xlsxwriter.Workbook('Data Columns.xlsx')\n",
    "worksheet = workbook.add_worksheet()"
   ]
  },
  {
   "cell_type": "code",
   "execution_count": 60,
   "metadata": {},
   "outputs": [],
   "source": [
    "\n",
    "\n",
    "for key in tableColumnNames.keys():\n",
    "    row = 0\n",
    "    worksheet.write(row, col, key)\n",
    "    for item in tableColumnNames[key]:\n",
    "        row += 1\n",
    "        worksheet.write(row, col, item)\n",
    "        \n",
    "    col = col+1\n",
    "\n",
    "workbook.close()"
   ]
  },
  {
   "cell_type": "code",
   "execution_count": null,
   "metadata": {},
   "outputs": [],
   "source": []
  }
 ],
 "metadata": {
  "kernelspec": {
   "display_name": "Python 3",
   "language": "python",
   "name": "python3"
  },
  "language_info": {
   "codemirror_mode": {
    "name": "ipython",
    "version": 3
   },
   "file_extension": ".py",
   "mimetype": "text/x-python",
   "name": "python",
   "nbconvert_exporter": "python",
   "pygments_lexer": "ipython3",
   "version": "3.7.0"
  }
 },
 "nbformat": 4,
 "nbformat_minor": 2
}
